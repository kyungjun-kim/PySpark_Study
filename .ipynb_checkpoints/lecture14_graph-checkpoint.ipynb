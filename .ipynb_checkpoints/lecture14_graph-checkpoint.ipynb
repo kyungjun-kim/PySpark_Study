{
 "cells": [
  {
   "cell_type": "code",
   "execution_count": null,
   "id": "bbcccbe1-2fd4-4db6-9dc0-4e934976f00f",
   "metadata": {},
   "outputs": [],
   "source": [
    "from pyspark.sql import (\n",
    "    functions as f,\n",
    "    SparkSession,\n",
    "    types as t\n",
    ")\n",
    "\n",
    "# Attribution 3.0 Unported (CC BY 3.0)\n",
    "# https://www.kaggle.com/datasets/csanhueza/the-marvel-universe-social-network\n",
    "\n",
    "spark = SparkSession.builder.appName(\"df_most_popular\").getOrCreate()\n",
    "csv_file_path = \"file:///home/jovyan/work/sample/hero-network.csv\"\n",
    "# read file\n",
    "df = spark.read\\\n",
    "            .option(\"header\", \"true\")\\\n",
    "            .option(\"inferSchema\", \"true\").csv(csv_file_path)\n",
    "\n",
    "# pyspark.sql.functions.collect_set(col): Aggregate function: returns a set of objects with duplicate elements eliminated.\n",
    "data = df.groupBy(\"hero1\")\\\n",
    "            .agg(\n",
    "                f.collect_set(\"hero2\").alias(\"connection\"))\\\n",
    "            .withColumnRenamed(\"hero1\", \"hero\")\n",
    "data.show()"
   ]
  },
  {
   "cell_type": "code",
   "execution_count": null,
   "id": "94384680-1d7f-4b01-a982-51802621bbf0",
   "metadata": {},
   "outputs": [],
   "source": [
    "# pyspark.sql.functions.concat_ws(sep, *cols): Concatenates multiple input string columns together into a single string column, using the given separator.\n",
    "data = data.withColumn(\"connection\", f.concat_ws(\",\", f.col(\"connection\")))\n",
    "data.show()\n",
    "\n",
    "# DataFrame.coalesce(numPartitions): Returns a new DataFrame that has exactly numPartitions partitions.\n",
    "data.coalesce(1).write.option(\"header\", True).csv(\"output\")"
   ]
  },
  {
   "cell_type": "code",
   "execution_count": null,
   "id": "ace1da8d-bb0b-4954-9bd4-f12851b52630",
   "metadata": {},
   "outputs": [],
   "source": [
    "# # load the file\n",
    "csv_file_path = \"file:///home/jovyan/work/output\"\n",
    "df = spark.read\\\n",
    "            .option(\"header\", \"true\")\\\n",
    "            .option(\"inferSchema\", \"true\")\\\n",
    "            .csv(csv_file_path)\n",
    "# df.show()\n",
    "\n",
    "# pyspark.sql.functions.size(col): Collection function: returns the length of the array or map stored in the column.\n",
    "df = df.withColumn(\n",
    "        \"connection_size\",\n",
    "        f.size(\n",
    "            f.split(f.col(\"connection\"), \",\")))\\\n",
    "        .orderBy(f.desc(\"connection_size\"))\n",
    "df.show()\n",
    "\n",
    "most_popular_hero = df.select(\"hero\").first()\n",
    "print(most_popular_hero.hero)"
   ]
  }
 ],
 "metadata": {
  "kernelspec": {
   "display_name": "Python 3 (ipykernel)",
   "language": "python",
   "name": "python3"
  },
  "language_info": {
   "codemirror_mode": {
    "name": "ipython",
    "version": 3
   },
   "file_extension": ".py",
   "mimetype": "text/x-python",
   "name": "python",
   "nbconvert_exporter": "python",
   "pygments_lexer": "ipython3",
   "version": "3.11.6"
  },
  "vscode": {
   "interpreter": {
    "hash": "aee8b7b246df8f9039afb4144a1f6fd8d2ca17a180786b69acc140d282b71a49"
   }
  }
 },
 "nbformat": 4,
 "nbformat_minor": 5
}
